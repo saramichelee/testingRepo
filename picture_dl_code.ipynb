{
 "cells": [
  {
   "cell_type": "markdown",
   "metadata": {},
   "source": [
    "### Import dependencies"
   ]
  },
  {
   "cell_type": "code",
   "execution_count": 18,
   "metadata": {},
   "outputs": [],
   "source": [
    "import requests\n",
    "import pandas as pd"
   ]
  },
  {
   "cell_type": "markdown",
   "metadata": {},
   "source": [
    "### Define photo base url"
   ]
  },
  {
   "cell_type": "code",
   "execution_count": 19,
   "metadata": {},
   "outputs": [],
   "source": [
    "url = \"https://securea.mlb.com/mlb/images/players/head_shot/\""
   ]
  },
  {
   "cell_type": "markdown",
   "metadata": {},
   "source": [
    "### Read in base data csv and id csv"
   ]
  },
  {
   "cell_type": "code",
   "execution_count": 6,
   "metadata": {},
   "outputs": [],
   "source": [
    "data = pd.read_csv('player_list.csv')\n",
    "ids = pd.read_csv('master_id_list.csv', encoding='latin-1')"
   ]
  },
  {
   "cell_type": "markdown",
   "metadata": {},
   "source": [
    "### Filter id DF"
   ]
  },
  {
   "cell_type": "code",
   "execution_count": 8,
   "metadata": {},
   "outputs": [],
   "source": [
    "ids = ids[['espn_id', 'mlb_id', 'yahoo_id']]"
   ]
  },
  {
   "cell_type": "markdown",
   "metadata": {},
   "source": [
    "### Merge dataframes"
   ]
  },
  {
   "cell_type": "code",
   "execution_count": 9,
   "metadata": {},
   "outputs": [],
   "source": [
    "photo_ids_df = pd.merge(data, ids, on='espn_id', how='left' )\n"
   ]
  },
  {
   "cell_type": "markdown",
   "metadata": {},
   "source": [
    "### Fill NA's"
   ]
  },
  {
   "cell_type": "code",
   "execution_count": 25,
   "metadata": {},
   "outputs": [],
   "source": [
    "photo_ids_df = photo_ids_df.fillna(0)"
   ]
  },
  {
   "cell_type": "markdown",
   "metadata": {},
   "source": [
    "### Convert to int to drop .0's the to string for url concatination"
   ]
  },
  {
   "cell_type": "code",
   "execution_count": 26,
   "metadata": {},
   "outputs": [],
   "source": [
    "photo_ids_df['mlb_id'] = photo_ids_df['mlb_id'].astype(int)"
   ]
  },
  {
   "cell_type": "code",
   "execution_count": 28,
   "metadata": {},
   "outputs": [],
   "source": [
    "photo_ids_df['mlb_id'] = photo_ids_df['mlb_id'].astype(str)"
   ]
  },
  {
   "cell_type": "markdown",
   "metadata": {},
   "source": [
    "### Build player photo URLs"
   ]
  },
  {
   "cell_type": "code",
   "execution_count": 30,
   "metadata": {},
   "outputs": [],
   "source": [
    "player_photos = [url+photo_ids_df['mlb_id'][x]+\".jpg\" for x in range(len(photo_ids_df))]"
   ]
  },
  {
   "cell_type": "markdown",
   "metadata": {},
   "source": [
    "### Add row to DF"
   ]
  },
  {
   "cell_type": "code",
   "execution_count": 32,
   "metadata": {},
   "outputs": [],
   "source": [
    "photo_ids_df['photo_url']  = player_photos"
   ]
  },
  {
   "cell_type": "code",
   "execution_count": 33,
   "metadata": {},
   "outputs": [
    {
     "data": {
      "text/html": [
       "<div>\n",
       "<style scoped>\n",
       "    .dataframe tbody tr th:only-of-type {\n",
       "        vertical-align: middle;\n",
       "    }\n",
       "\n",
       "    .dataframe tbody tr th {\n",
       "        vertical-align: top;\n",
       "    }\n",
       "\n",
       "    .dataframe thead th {\n",
       "        text-align: right;\n",
       "    }\n",
       "</style>\n",
       "<table border=\"1\" class=\"dataframe\">\n",
       "  <thead>\n",
       "    <tr style=\"text-align: right;\">\n",
       "      <th></th>\n",
       "      <th>Unnamed: 0</th>\n",
       "      <th>player</th>\n",
       "      <th>WAR</th>\n",
       "      <th>OFF</th>\n",
       "      <th>DEF</th>\n",
       "      <th>WAA</th>\n",
       "      <th>TRPG</th>\n",
       "      <th>ORPG</th>\n",
       "      <th>RAA</th>\n",
       "      <th>WAAWP</th>\n",
       "      <th>Season</th>\n",
       "      <th>First Name</th>\n",
       "      <th>Last Name</th>\n",
       "      <th>mlb_name</th>\n",
       "      <th>espn_id</th>\n",
       "      <th>espn_name</th>\n",
       "      <th>espn_pos</th>\n",
       "      <th>mlb_id</th>\n",
       "      <th>yahoo_id</th>\n",
       "      <th>photo_url</th>\n",
       "    </tr>\n",
       "  </thead>\n",
       "  <tbody>\n",
       "    <tr>\n",
       "      <th>0</th>\n",
       "      <td>0</td>\n",
       "      <td>Cody Bellinger</td>\n",
       "      <td>9.0</td>\n",
       "      <td>6.6</td>\n",
       "      <td>1.9</td>\n",
       "      <td>7.0</td>\n",
       "      <td>5.0</td>\n",
       "      <td>4.7</td>\n",
       "      <td>72.9</td>\n",
       "      <td>0.5</td>\n",
       "      <td>19</td>\n",
       "      <td>Cody</td>\n",
       "      <td>Bellinger</td>\n",
       "      <td>Cody Bellinger</td>\n",
       "      <td>33912</td>\n",
       "      <td>Cody Bellinger</td>\n",
       "      <td>CF</td>\n",
       "      <td>641355</td>\n",
       "      <td>10504.0</td>\n",
       "      <td>https://securea.mlb.com/mlb/images/players/hea...</td>\n",
       "    </tr>\n",
       "    <tr>\n",
       "      <th>1</th>\n",
       "      <td>1</td>\n",
       "      <td>Alex Bregman</td>\n",
       "      <td>8.4</td>\n",
       "      <td>7.7</td>\n",
       "      <td>1.2</td>\n",
       "      <td>6.1</td>\n",
       "      <td>5.3</td>\n",
       "      <td>5.0</td>\n",
       "      <td>62.0</td>\n",
       "      <td>0.5</td>\n",
       "      <td>19</td>\n",
       "      <td>Alex</td>\n",
       "      <td>Bregman</td>\n",
       "      <td>Alex Bregman</td>\n",
       "      <td>34886</td>\n",
       "      <td>Alex Bregman</td>\n",
       "      <td>3B</td>\n",
       "      <td>608324</td>\n",
       "      <td>10183.0</td>\n",
       "      <td>https://securea.mlb.com/mlb/images/players/hea...</td>\n",
       "    </tr>\n",
       "    <tr>\n",
       "      <th>2</th>\n",
       "      <td>2</td>\n",
       "      <td>Mike Trout</td>\n",
       "      <td>8.3</td>\n",
       "      <td>8.3</td>\n",
       "      <td>0.3</td>\n",
       "      <td>6.3</td>\n",
       "      <td>5.5</td>\n",
       "      <td>5.0</td>\n",
       "      <td>65.7</td>\n",
       "      <td>0.5</td>\n",
       "      <td>19</td>\n",
       "      <td>Mike</td>\n",
       "      <td>Trout</td>\n",
       "      <td>Mike Trout</td>\n",
       "      <td>30836</td>\n",
       "      <td>Mike Trout</td>\n",
       "      <td>CF</td>\n",
       "      <td>545361</td>\n",
       "      <td>8861.0</td>\n",
       "      <td>https://securea.mlb.com/mlb/images/players/hea...</td>\n",
       "    </tr>\n",
       "  </tbody>\n",
       "</table>\n",
       "</div>"
      ],
      "text/plain": [
       "   Unnamed: 0          player  WAR  OFF  DEF  WAA  TRPG  ORPG   RAA  WAAWP  \\\n",
       "0           0  Cody Bellinger  9.0  6.6  1.9  7.0   5.0   4.7  72.9    0.5   \n",
       "1           1    Alex Bregman  8.4  7.7  1.2  6.1   5.3   5.0  62.0    0.5   \n",
       "2           2      Mike Trout  8.3  8.3  0.3  6.3   5.5   5.0  65.7    0.5   \n",
       "\n",
       "   Season First Name  Last Name        mlb_name  espn_id       espn_name  \\\n",
       "0      19       Cody  Bellinger  Cody Bellinger    33912  Cody Bellinger   \n",
       "1      19       Alex    Bregman    Alex Bregman    34886    Alex Bregman   \n",
       "2      19       Mike      Trout      Mike Trout    30836      Mike Trout   \n",
       "\n",
       "  espn_pos  mlb_id  yahoo_id  \\\n",
       "0       CF  641355   10504.0   \n",
       "1       3B  608324   10183.0   \n",
       "2       CF  545361    8861.0   \n",
       "\n",
       "                                           photo_url  \n",
       "0  https://securea.mlb.com/mlb/images/players/hea...  \n",
       "1  https://securea.mlb.com/mlb/images/players/hea...  \n",
       "2  https://securea.mlb.com/mlb/images/players/hea...  "
      ]
     },
     "execution_count": 33,
     "metadata": {},
     "output_type": "execute_result"
    }
   ],
   "source": [
    "photo_ids_df.head(3)"
   ]
  },
  {
   "cell_type": "markdown",
   "metadata": {},
   "source": [
    "### Store list for use in other notebooks"
   ]
  },
  {
   "cell_type": "code",
   "execution_count": 34,
   "metadata": {},
   "outputs": [
    {
     "name": "stdout",
     "output_type": "stream",
     "text": [
      "Stored 'player_photos' (list)\n"
     ]
    }
   ],
   "source": [
    "%store player_photos"
   ]
  },
  {
   "cell_type": "code",
   "execution_count": null,
   "metadata": {},
   "outputs": [],
   "source": []
  }
 ],
 "metadata": {
  "kernelspec": {
   "display_name": "Python 3",
   "language": "python",
   "name": "python3"
  },
  "language_info": {
   "codemirror_mode": {
    "name": "ipython",
    "version": 3
   },
   "file_extension": ".py",
   "mimetype": "text/x-python",
   "name": "python",
   "nbconvert_exporter": "python",
   "pygments_lexer": "ipython3",
   "version": "3.6.8"
  }
 },
 "nbformat": 4,
 "nbformat_minor": 4
}
